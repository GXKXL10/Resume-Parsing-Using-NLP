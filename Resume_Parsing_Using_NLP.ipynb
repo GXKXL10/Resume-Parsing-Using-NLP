{
  "cells": [
    {
      "cell_type": "markdown",
      "metadata": {
        "id": "TZnjqSKjbgV_"
      },
      "source": [
        "# **Resume Parsing Using NLP**\n",
        "\n",
        "## **GROUP - 4 Members**\n",
        "**Abhishek S B [AM.EN.U4AIE21102]**\n",
        "\n",
        "**Advaith P R [AM.EN.U4AIE21106]**\n",
        "\n",
        "**Gokul Krishna B R [AM.EN.U4AIE21131]**\n",
        "\n",
        "**Parvathy G Pillai [AM.EN.U4AIE21150]**\n",
        "\n",
        "**S Anand [AM.EN.U4AIE21155]**"
      ]
    },
    {
      "cell_type": "markdown",
      "metadata": {
        "id": "wngYNGvqbgWC"
      },
      "source": [
        "### Creating Corpus using sketch Engine"
      ]
    },
    {
      "cell_type": "markdown",
      "metadata": {
        "id": "5jqwT3VUbgWC"
      },
      "source": [
        "We used SketchEngine to create a corpus, wikipedia pages were given as input\n"
      ]
    },
    {
      "cell_type": "code",
      "execution_count": 1,
      "metadata": {
        "id": "WZKG5s9SbgWD"
      },
      "outputs": [],
      "source": [
        "from PIL import Image"
      ]
    },
    {
      "cell_type": "markdown",
      "metadata": {
        "id": "OhLk24ODbgWD"
      },
      "source": [
        "### Creating word embedding"
      ]
    },
    {
      "cell_type": "code",
      "execution_count": 16,
      "metadata": {
        "id": "fyJus7URbgWD"
      },
      "outputs": [],
      "source": [
        "from gensim.models import Word2Vec\n",
        "import string\n",
        "import re\n",
        "from nltk.corpus import stopwords\n",
        "with open(r'/content/skills.txt',encoding=\"utf8\") as f:\n",
        "    content = f.readlines()\n",
        "# you may also want to remove whitespace characters like `\\n` at the end of each line\n",
        "content = [x.strip() for x in content]"
      ]
    },
    {
      "cell_type": "code",
      "execution_count": 17,
      "metadata": {
        "colab": {
          "base_uri": "https://localhost:8080/",
          "height": 91
        },
        "id": "u3aV3tMZbgWE",
        "outputId": "9a170cc7-251c-427a-bcbf-4059af7572f0"
      },
      "outputs": [
        {
          "output_type": "execute_result",
          "data": {
            "text/plain": [
              "'Data science is a \"concept to unify statistics, data analysis, machine learning and their related methods\" in order to \"understand and analyze actual phenomena\" with data. It employs techniques and theories drawn from many fields within the context of mathematics, statistics, information science, and computer science. Turing award winner Jim Gray imagined data science as a \"fourth paradigm\" of science (empirical, theoretical, computational and now data-driven) and asserted that \"everything about science is changing because of the impact of information technology\" and the data deluge.'"
            ],
            "application/vnd.google.colaboratory.intrinsic+json": {
              "type": "string"
            }
          },
          "metadata": {},
          "execution_count": 17
        }
      ],
      "source": [
        "content[1]"
      ]
    },
    {
      "cell_type": "code",
      "execution_count": 18,
      "metadata": {
        "id": "ELMsss9-bgWE"
      },
      "outputs": [],
      "source": [
        "from nltk.tokenize import word_tokenize\n",
        "import gensim\n",
        "from gensim.models.phrases import Phraser, Phrases"
      ]
    },
    {
      "cell_type": "markdown",
      "metadata": {
        "id": "VXDC1RaKbgWF"
      },
      "source": [
        "**Preprocessing**"
      ]
    },
    {
      "cell_type": "code",
      "execution_count": 19,
      "metadata": {
        "id": "RGf2w4jYbgWF",
        "colab": {
          "base_uri": "https://localhost:8080/"
        },
        "outputId": "99fd553e-bf50-4715-b892-ed60ea430ffb"
      },
      "outputs": [
        {
          "output_type": "stream",
          "name": "stderr",
          "text": [
            "[nltk_data] Downloading package punkt to /root/nltk_data...\n",
            "[nltk_data]   Package punkt is already up-to-date!\n"
          ]
        }
      ],
      "source": [
        "import nltk\n",
        "nltk.download('punkt')\n",
        "from nltk.tokenize import word_tokenize\n",
        "from nltk.corpus import stopwords\n",
        "import string\n",
        "\n",
        "# Download stopwords dataset\n",
        "nltk.download('stopwords', quiet=True)\n",
        "\n",
        "\n",
        "x = []\n",
        "for line in content:\n",
        "    tokens = word_tokenize(line)\n",
        "    tok = [w.lower() for w in tokens]\n",
        "    table = str.maketrans('', '', string.punctuation)\n",
        "    strpp = [w.translate(table) for w in tok]\n",
        "    words = [word for word in strpp if word.isalpha()]\n",
        "    stop_words = set(stopwords.words('english'))\n",
        "    words = [w for w in words if not w in stop_words]\n",
        "    x.append(words)\n"
      ]
    },
    {
      "cell_type": "code",
      "execution_count": 21,
      "metadata": {
        "id": "C2VFjaRGbgWF"
      },
      "outputs": [],
      "source": [
        "texts=x"
      ]
    },
    {
      "cell_type": "code",
      "execution_count": 25,
      "metadata": {
        "colab": {
          "base_uri": "https://localhost:8080/"
        },
        "id": "2DJluP9IbgWF",
        "outputId": "d4e38a1f-eee1-42ba-9560-47c742ec3bb6"
      },
      "outputs": [
        {
          "output_type": "stream",
          "name": "stdout",
          "text": [
            "['term', 'data', 'science', 'appeared', 'various', 'contexts', 'past', 'thirty', 'years', 'become', 'established', 'term', 'recently', 'early', 'usage', 'used', 'substitute', 'computer', 'science', 'peter', 'naur', 'naur', 'later', 'introduced', 'term', 'datalogy', 'naur', 'published', 'concise', 'survey', 'computer', 'methods', 'freely', 'used', 'term', 'data', 'science', 'survey', 'contemporary', 'data', 'processing', 'methods', 'used', 'wide', 'range', 'applications']\n"
          ]
        }
      ],
      "source": [
        "print(texts[3])"
      ]
    },
    {
      "cell_type": "markdown",
      "metadata": {
        "id": "KEWYBG3YbgWG"
      },
      "source": [
        "**Removing commonly occuring words that are not useful**"
      ]
    },
    {
      "cell_type": "code",
      "execution_count": 26,
      "metadata": {
        "colab": {
          "base_uri": "https://localhost:8080/"
        },
        "id": "zfL0Y8RAbgWG",
        "outputId": "7cb01bee-db3d-4587-d8b8-d12108b6e786"
      },
      "outputs": [
        {
          "output_type": "stream",
          "name": "stdout",
          "text": [
            "['term', 'data', 'science', 'appeared', 'various', 'contexts', 'past', 'thirty', 'years', 'become', 'established', 'term', 'recently', 'early', 'usage', 'used', 'substitute', 'computer', 'science', 'peter', 'naur', 'naur', 'later', 'introduced', 'term', 'datalogy', 'naur', 'published', 'concise', 'survey', 'computer', 'methods', 'freely', 'used', 'term', 'data', 'science', 'survey', 'contemporary', 'data', 'processing', 'methods', 'used', 'wide', 'range', 'applications']\n"
          ]
        }
      ],
      "source": [
        "with open('common.txt') as f:\n",
        "    content2 = f.read()\n",
        "ntexts=[]\n",
        "l=len(texts)\n",
        "for j in range(l):\n",
        "    s=texts[j]\n",
        "    res = [i for i in s if i not in content2]\n",
        "    ntexts.append(res)\n",
        "print(texts[3])\n",
        "\n"
      ]
    },
    {
      "cell_type": "code",
      "execution_count": 27,
      "metadata": {
        "colab": {
          "base_uri": "https://localhost:8080/"
        },
        "id": "GfTFYyrnbgWG",
        "outputId": "7c2619ba-1a14-4e62-e905-eff8b66e8f5b"
      },
      "outputs": [
        {
          "output_type": "stream",
          "name": "stdout",
          "text": [
            "['term', 'data', 'science', 'appeared', 'various', 'contexts', 'past', 'thirty', 'years', 'become', 'established', 'term', 'recently', 'early', 'usage', 'used', 'substitute', 'computer', 'science', 'peter', 'naur', 'naur', 'later', 'introduced', 'term', 'datalogy', 'naur', 'published', 'concise', 'survey', 'computer', 'methods', 'freely', 'used', 'term', 'data', 'science', 'survey', 'contemporary', 'data', 'processing', 'methods', 'used', 'wide', 'range', 'applications']\n"
          ]
        }
      ],
      "source": [
        "print(ntexts[3])"
      ]
    },
    {
      "cell_type": "code",
      "execution_count": 28,
      "metadata": {
        "colab": {
          "base_uri": "https://localhost:8080/"
        },
        "id": "4f6HIRtObgWG",
        "outputId": "27d78b3c-56d8-494b-f79d-15dd6a660e27"
      },
      "outputs": [
        {
          "output_type": "stream",
          "name": "stdout",
          "text": [
            "316\n"
          ]
        }
      ],
      "source": [
        "print(len(ntexts))\n",
        "texts=ntexts"
      ]
    },
    {
      "cell_type": "code",
      "execution_count": 29,
      "metadata": {
        "id": "O2ARKpt7bgWG"
      },
      "outputs": [],
      "source": [
        "content=texts"
      ]
    },
    {
      "cell_type": "markdown",
      "metadata": {
        "id": "OtVUaFUmbgWH"
      },
      "source": [
        "**Creating bigrams**"
      ]
    },
    {
      "cell_type": "code",
      "execution_count": 34,
      "metadata": {
        "colab": {
          "base_uri": "https://localhost:8080/"
        },
        "id": "l6x0vBbrbgWH",
        "outputId": "cf5fcd47-b2dc-41b8-9a12-712f88bcc390"
      },
      "outputs": [
        {
          "output_type": "stream",
          "name": "stdout",
          "text": [
            "1259\n"
          ]
        }
      ],
      "source": [
        "common_terms = [\"of\", \"with\", \"without\", \"and\", \"or\", \"the\", \"a\"]\n",
        "x=ntexts\n",
        "# Create the relevant phrases from the list of sentences:\n",
        "phrases = Phrases(ntexts)\n",
        "# The Phraser object is used from now on to transform sentences\n",
        "bigram = Phraser(phrases)\n",
        "# Applying the Phraser to transform our sentences\n",
        "all_sentences = list(bigram[x])\n",
        "model=gensim.models.Word2Vec(all_sentences,vector_size=5000,min_count=2,workers=4,window=4)\n",
        "model.save(\"final.model\")\n",
        "# Use .key_to_index instead of .vocab\n",
        "words=list(model.wv.key_to_index)\n",
        "print(len(words))"
      ]
    },
    {
      "cell_type": "markdown",
      "metadata": {
        "id": "100VhdkLbgWH"
      },
      "source": [
        "**Testing**"
      ]
    },
    {
      "cell_type": "code",
      "execution_count": 35,
      "metadata": {
        "id": "Z0huBS3EbgWH"
      },
      "outputs": [],
      "source": [
        "z=model.wv.most_similar(\"machine_learning\")"
      ]
    },
    {
      "cell_type": "code",
      "execution_count": 36,
      "metadata": {
        "id": "RPhw-eSpbgWH",
        "outputId": "a7f7bd19-e6ed-42d1-e7b7-30f5a38571e2",
        "colab": {
          "base_uri": "https://localhost:8080/"
        }
      },
      "outputs": [
        {
          "output_type": "stream",
          "name": "stdout",
          "text": [
            "[('software', 0.15304957330226898), ('data', 0.1448012888431549), ('using', 0.1437668800354004), ('language', 0.14163680374622345), ('deep_learning', 0.14132162928581238), ('deep', 0.14066118001937866), ('layer', 0.13416840136051178), ('used', 0.13283158838748932), ('data_science', 0.1328025907278061), ('model', 0.13211007416248322)]\n"
          ]
        }
      ],
      "source": [
        "print(z)"
      ]
    },
    {
      "cell_type": "markdown",
      "metadata": {
        "id": "Pj6Zir0VbgWI"
      },
      "source": [
        "### Resume Parsing"
      ]
    },
    {
      "cell_type": "code",
      "execution_count": 38,
      "metadata": {
        "id": "sGMN9KLVbgWI",
        "colab": {
          "base_uri": "https://localhost:8080/"
        },
        "outputId": "6cacf157-9a9e-4c5f-f165-636476181431"
      },
      "outputs": [
        {
          "output_type": "stream",
          "name": "stdout",
          "text": [
            "Collecting PyPDF2\n",
            "  Downloading pypdf2-3.0.1-py3-none-any.whl (232 kB)\n",
            "\u001b[?25l     \u001b[90m━━━━━━━━━━━━━━━━━━━━━━━━━━━━━━━━━━━━━━━━\u001b[0m \u001b[32m0.0/232.6 kB\u001b[0m \u001b[31m?\u001b[0m eta \u001b[36m-:--:--\u001b[0m\r\u001b[2K     \u001b[91m━━━━━━━━━━━━━━━\u001b[0m\u001b[91m╸\u001b[0m\u001b[90m━━━━━━━━━━━━━━━━━━━━━━━━\u001b[0m \u001b[32m92.2/232.6 kB\u001b[0m \u001b[31m2.6 MB/s\u001b[0m eta \u001b[36m0:00:01\u001b[0m\r\u001b[2K     \u001b[90m━━━━━━━━━━━━━━━━━━━━━━━━━━━━━━━━━━━━━━━━\u001b[0m \u001b[32m232.6/232.6 kB\u001b[0m \u001b[31m4.2 MB/s\u001b[0m eta \u001b[36m0:00:00\u001b[0m\n",
            "\u001b[?25hInstalling collected packages: PyPDF2\n",
            "Successfully installed PyPDF2-3.0.1\n"
          ]
        }
      ],
      "source": [
        "!pip install PyPDF2\n",
        "import PyPDF2\n",
        "import os\n",
        "import collections\n",
        "from os import listdir\n",
        "from os.path import isfile, join\n",
        "from io import StringIO\n",
        "import pandas as pd\n",
        "from collections import Counter\n",
        "import en_core_web_sm\n",
        "nlp = en_core_web_sm.load()\n",
        "from spacy.matcher import PhraseMatcher"
      ]
    },
    {
      "cell_type": "markdown",
      "metadata": {
        "id": "7S2P4WoObgWI"
      },
      "source": [
        "**Reading Resumes from folder**"
      ]
    },
    {
      "cell_type": "code",
      "execution_count": 117,
      "metadata": {
        "id": "QvR4NQrrbgWI"
      },
      "outputs": [],
      "source": [
        "mypath=r'/content/Resumes'\n",
        "#Path for the files\n",
        "onlyfiles = [os.path.join(mypath, f) for f in os.listdir(mypath) if os.path.isfile(os.path.join(mypath, f))]\n"
      ]
    },
    {
      "cell_type": "markdown",
      "metadata": {
        "id": "NchB-q3ObgWI"
      },
      "source": [
        "**Function to words from resume**"
      ]
    },
    {
      "cell_type": "code",
      "execution_count": 102,
      "metadata": {
        "id": "PdA446YObgWJ",
        "colab": {
          "base_uri": "https://localhost:8080/"
        },
        "outputId": "49577d6f-9b95-4f43-b07a-7b41af061d5d"
      },
      "outputs": [
        {
          "output_type": "stream",
          "name": "stdout",
          "text": [
            "Requirement already satisfied: PyPDF2 in /usr/local/lib/python3.10/dist-packages (3.0.1)\n"
          ]
        }
      ],
      "source": [
        "!pip install --upgrade PyPDF2\n",
        "\n",
        "import PyPDF2\n",
        "\n",
        "def pdfextract(file):\n",
        "    # creating a pdf file object\n",
        "    read_pdf = PyPDF2.PdfReader(file)\n",
        "    number_of_pages = len(read_pdf.pages)\n",
        "    c = range(number_of_pages)\n",
        "    page_content = \"\"\n",
        "    for i in c:\n",
        "        #page\n",
        "        page = read_pdf.pages[i] # Use the updated method to get the page\n",
        "        page_content += page.extract_text() # Append text from each page\n",
        "    return (page_content.encode('utf-8'))"
      ]
    },
    {
      "cell_type": "code",
      "execution_count": 103,
      "metadata": {
        "id": "r6yXM2ybbgWJ"
      },
      "outputs": [],
      "source": [
        "sim_words=[k[0] for k in model.wv.most_similar(\"machine_learning\")]"
      ]
    },
    {
      "cell_type": "code",
      "execution_count": 104,
      "metadata": {
        "id": "LbGA8ErybgWJ"
      },
      "outputs": [],
      "source": [
        "def create_bigram(words):\n",
        "    common_terms = [\"of\", \"with\", \"without\", \"and\", \"or\", \"the\", \"a\"]\n",
        "    x=words.split()\n",
        "# Create the relevant phrases from the list of sentences:\n",
        "    phrases = Phrases(x, common_terms=common_terms)\n",
        "# The Phraser object is used from now on to transform sentences\n",
        "    bigram = Phraser(phrases)\n",
        "# Applying the Phraser to transform our sentences is simply\n",
        "    all_sentences = list(bigram[x])\n",
        "\n"
      ]
    },
    {
      "cell_type": "markdown",
      "metadata": {
        "id": "_0aIQZNUbgWN"
      },
      "source": [
        "**Function to build candidate profile**"
      ]
    },
    {
      "cell_type": "code",
      "execution_count": 105,
      "metadata": {
        "id": "IUDn1kcvbgWN"
      },
      "outputs": [],
      "source": [
        "import os\n",
        "import pandas as pd\n",
        "from io import StringIO\n",
        "from collections import Counter\n",
        "from gensim.models import Word2Vec\n",
        "from spacy.matcher import PhraseMatcher\n",
        "import spacy\n",
        "\n",
        "def create_profile(file):\n",
        "    model = Word2Vec.load(\"final.model\")\n",
        "    text = str(pdfextract(file))\n",
        "    text = text.replace(\"\\\\n\", \"\")\n",
        "    text = text.lower()\n",
        "\n",
        "    stats = [nlp(text[0]) for text in model.wv.most_similar(\"statistics\")]\n",
        "    NLP = [nlp(text[0]) for text in model.wv.most_similar(\"language\")]\n",
        "    ML = [nlp(text[0]) for text in model.wv.most_similar(\"machine_learning\")]\n",
        "    DL = [nlp(text[0]) for text in model.wv.most_similar(\"deep\")]\n",
        "    python = [nlp(text[0]) for text in model.wv.most_similar(\"python\")]\n",
        "    Data_Engineering = [nlp(text[0]) for text in model.wv.most_similar(\"data\")]\n",
        "\n",
        "    matcher = PhraseMatcher(nlp.vocab)\n",
        "    matcher.add('Stats', None, *stats)\n",
        "    matcher.add('NLP', None, *NLP)\n",
        "    matcher.add('ML', None, *ML)\n",
        "    matcher.add('DL', None, *DL)\n",
        "    matcher.add('Python', None, *python)\n",
        "    matcher.add('DE', None, *Data_Engineering)\n",
        "    doc = nlp(text)\n",
        "\n",
        "    d = []\n",
        "    matches = matcher(doc)\n",
        "    for match_id, start, end in matches:\n",
        "        rule_id = nlp.vocab.strings[match_id]\n",
        "        span = doc[start:end]\n",
        "        d.append((rule_id, span.text))\n",
        "\n",
        "    keywords = \"\\n\".join(f'{i[0]} {i[1]} ({j})' for i, j in Counter(d).items())\n",
        "    print(\"KEYWORDS\")\n",
        "    print(keywords)\n",
        "    df = pd.read_csv(StringIO(keywords), names=['Keywords_List'])\n",
        "\n",
        "    df['Subject'] = df['Keywords_List'].apply(lambda x: x.split(' ', 1)[0])\n",
        "    df['Keyword_Count'] = df['Keywords_List'].apply(lambda x: x.split(' ', 1)[1])\n",
        "\n",
        "    df['Keyword'] = df['Keyword_Count'].apply(lambda x: x.split('(')[0].strip())\n",
        "    df['Count'] = df['Keyword_Count'].apply(lambda x: x.split('(')[1].rstrip(')'))\n",
        "\n",
        "    df.drop(columns=['Keyword_Count', 'Keywords_List'], inplace=True)\n",
        "\n",
        "    base = os.path.basename(file)\n",
        "    filename = os.path.splitext(base)[0]\n",
        "    name = filename.split('_')[0].lower()\n",
        "\n",
        "    name_df = pd.DataFrame([name], columns=['Candidate Name'])\n",
        "    dataf = pd.concat([name_df, df], axis=1)\n",
        "    dataf['Candidate Name'].fillna(dataf['Candidate Name'].iloc[0], inplace=True)\n",
        "\n",
        "    return dataf"
      ]
    },
    {
      "cell_type": "markdown",
      "metadata": {
        "id": "fPm2IMMQbgWO"
      },
      "source": [
        "**Code to execute the above functions**"
      ]
    },
    {
      "cell_type": "code",
      "execution_count": 119,
      "metadata": {
        "id": "m47XLRPObgWO",
        "outputId": "e1e5924c-0379-4886-c2f6-beeef1d78211",
        "colab": {
          "base_uri": "https://localhost:8080/"
        }
      },
      "outputs": [
        {
          "output_type": "stream",
          "name": "stdout",
          "text": [
            "KEYWORDS\n",
            "NLP system (2)\n",
            "Python system (2)\n",
            "ML using (3)\n",
            "NLP using (3)\n",
            "Stats using (3)\n",
            "DE using (3)\n",
            "DL using (3)\n",
            "Python using (3)\n",
            "KEYWORDS\n",
            "NLP programming (1)\n",
            "DE programming (1)\n",
            "DL programming (1)\n",
            "ML language (1)\n",
            "DE language (1)\n",
            "DL language (1)\n",
            "Python language (1)\n",
            "Stats used (1)\n",
            "ML used (1)\n",
            "NLP used (1)\n",
            "ML data (2)\n",
            "NLP data (2)\n",
            "Stats data (2)\n",
            "DL data (2)\n",
            "Python data (2)\n",
            "ML using (1)\n",
            "NLP using (1)\n",
            "Stats using (1)\n",
            "DE using (1)\n",
            "DL using (1)\n",
            "Python using (1)\n",
            "KEYWORDS\n",
            "DE learning (5)\n",
            "ML using (6)\n",
            "NLP using (6)\n",
            "Stats using (6)\n",
            "DE using (6)\n",
            "DL using (6)\n",
            "Python using (6)\n",
            "ML deep (2)\n",
            "ML data (1)\n",
            "NLP data (1)\n",
            "Stats data (1)\n",
            "DL data (1)\n",
            "Python data (1)\n",
            "DL development (1)\n",
            "Stats training (1)\n",
            "KEYWORDS\n",
            "NLP programming (1)\n",
            "DE programming (1)\n",
            "DL programming (1)\n",
            "NLP methods (1)\n",
            "Python methods (1)\n",
            "ML using (1)\n",
            "NLP using (1)\n",
            "Stats using (1)\n",
            "DE using (1)\n",
            "DL using (1)\n",
            "Python using (1)\n",
            "NLP system (1)\n",
            "Python system (1)\n",
            "ML deep (1)\n",
            "DE learning (1)\n",
            "KEYWORDS\n",
            "DE learning (3)\n",
            "DL development (2)\n",
            "Stats models (1)\n",
            "DE models (1)\n",
            "NLP system (2)\n",
            "Python system (2)\n",
            "ML data (1)\n",
            "NLP data (1)\n",
            "Stats data (1)\n",
            "DL data (1)\n",
            "Python data (1)\n",
            "ML language (6)\n",
            "DE language (6)\n",
            "DL language (6)\n",
            "Python language (6)\n",
            "ML using (4)\n",
            "NLP using (4)\n",
            "Stats using (4)\n",
            "DE using (4)\n",
            "DL using (4)\n",
            "Python using (4)\n",
            "ML deep (2)\n",
            "KEYWORDS\n",
            "DE learning (1)\n",
            "ML using (3)\n",
            "NLP using (3)\n",
            "Stats using (3)\n",
            "DE using (3)\n",
            "DL using (3)\n",
            "Python using (3)\n",
            "   Candidate Name Subject Keyword Count\n",
            "0      advaith pr     NLP  system     2\n",
            "1      advaith pr  Python  system     2\n",
            "2      advaith pr      ML   using     3\n",
            "3      advaith pr     NLP   using     3\n",
            "4      advaith pr   Stats   using     3\n",
            "..            ...     ...     ...   ...\n",
            "83   dhruv-dinesh     NLP   using     3\n",
            "84   dhruv-dinesh   Stats   using     3\n",
            "85   dhruv-dinesh      DE   using     3\n",
            "86   dhruv-dinesh      DL   using     3\n",
            "87   dhruv-dinesh  Python   using     3\n",
            "\n",
            "[88 rows x 4 columns]\n"
          ]
        }
      ],
      "source": [
        "#Code to execute the above functions\n",
        "final_db=pd.DataFrame()\n",
        "i=0\n",
        "for file in onlyfiles:\n",
        "    dat = create_profile(file)\n",
        "    final_db = pd.concat([final_db, dat], ignore_index=True)\n",
        "\n",
        "print(final_db)\n",
        "    #print(final_db)"
      ]
    },
    {
      "cell_type": "markdown",
      "metadata": {
        "id": "9CCVBvc5bgWO"
      },
      "source": [
        "**Counting words under each category and building the candidate profile**"
      ]
    },
    {
      "cell_type": "code",
      "execution_count": 120,
      "metadata": {
        "id": "TccYgWlFbgWP",
        "outputId": "2847c8b2-6e83-4d24-c653-13a8a8390a2d",
        "colab": {
          "base_uri": "https://localhost:8080/",
          "height": 237
        }
      },
      "outputs": [
        {
          "output_type": "execute_result",
          "data": {
            "text/plain": [
              "  Candidate Name  DE  DL  ML  NLP  Python  Stats\n",
              "0     advaith pr   1   1   1    2       2      1\n",
              "1          anand   4   4   4    3       4      3\n",
              "2   dhruv-dinesh   2   1   1    1       1      1\n",
              "3  gokul krishna   3   4   4    4       3      3\n",
              "4        nandana   3   2   2    4       3      1\n",
              "5       parvathy   2   3   3    2       2      3"
            ],
            "text/html": [
              "\n",
              "  <div id=\"df-4580fafc-242e-4c00-af0f-3656924a797f\" class=\"colab-df-container\">\n",
              "    <div>\n",
              "<style scoped>\n",
              "    .dataframe tbody tr th:only-of-type {\n",
              "        vertical-align: middle;\n",
              "    }\n",
              "\n",
              "    .dataframe tbody tr th {\n",
              "        vertical-align: top;\n",
              "    }\n",
              "\n",
              "    .dataframe thead th {\n",
              "        text-align: right;\n",
              "    }\n",
              "</style>\n",
              "<table border=\"1\" class=\"dataframe\">\n",
              "  <thead>\n",
              "    <tr style=\"text-align: right;\">\n",
              "      <th></th>\n",
              "      <th>Candidate Name</th>\n",
              "      <th>DE</th>\n",
              "      <th>DL</th>\n",
              "      <th>ML</th>\n",
              "      <th>NLP</th>\n",
              "      <th>Python</th>\n",
              "      <th>Stats</th>\n",
              "    </tr>\n",
              "  </thead>\n",
              "  <tbody>\n",
              "    <tr>\n",
              "      <th>0</th>\n",
              "      <td>advaith pr</td>\n",
              "      <td>1</td>\n",
              "      <td>1</td>\n",
              "      <td>1</td>\n",
              "      <td>2</td>\n",
              "      <td>2</td>\n",
              "      <td>1</td>\n",
              "    </tr>\n",
              "    <tr>\n",
              "      <th>1</th>\n",
              "      <td>anand</td>\n",
              "      <td>4</td>\n",
              "      <td>4</td>\n",
              "      <td>4</td>\n",
              "      <td>3</td>\n",
              "      <td>4</td>\n",
              "      <td>3</td>\n",
              "    </tr>\n",
              "    <tr>\n",
              "      <th>2</th>\n",
              "      <td>dhruv-dinesh</td>\n",
              "      <td>2</td>\n",
              "      <td>1</td>\n",
              "      <td>1</td>\n",
              "      <td>1</td>\n",
              "      <td>1</td>\n",
              "      <td>1</td>\n",
              "    </tr>\n",
              "    <tr>\n",
              "      <th>3</th>\n",
              "      <td>gokul krishna</td>\n",
              "      <td>3</td>\n",
              "      <td>4</td>\n",
              "      <td>4</td>\n",
              "      <td>4</td>\n",
              "      <td>3</td>\n",
              "      <td>3</td>\n",
              "    </tr>\n",
              "    <tr>\n",
              "      <th>4</th>\n",
              "      <td>nandana</td>\n",
              "      <td>3</td>\n",
              "      <td>2</td>\n",
              "      <td>2</td>\n",
              "      <td>4</td>\n",
              "      <td>3</td>\n",
              "      <td>1</td>\n",
              "    </tr>\n",
              "    <tr>\n",
              "      <th>5</th>\n",
              "      <td>parvathy</td>\n",
              "      <td>2</td>\n",
              "      <td>3</td>\n",
              "      <td>3</td>\n",
              "      <td>2</td>\n",
              "      <td>2</td>\n",
              "      <td>3</td>\n",
              "    </tr>\n",
              "  </tbody>\n",
              "</table>\n",
              "</div>\n",
              "    <div class=\"colab-df-buttons\">\n",
              "\n",
              "  <div class=\"colab-df-container\">\n",
              "    <button class=\"colab-df-convert\" onclick=\"convertToInteractive('df-4580fafc-242e-4c00-af0f-3656924a797f')\"\n",
              "            title=\"Convert this dataframe to an interactive table.\"\n",
              "            style=\"display:none;\">\n",
              "\n",
              "  <svg xmlns=\"http://www.w3.org/2000/svg\" height=\"24px\" viewBox=\"0 -960 960 960\">\n",
              "    <path d=\"M120-120v-720h720v720H120Zm60-500h600v-160H180v160Zm220 220h160v-160H400v160Zm0 220h160v-160H400v160ZM180-400h160v-160H180v160Zm440 0h160v-160H620v160ZM180-180h160v-160H180v160Zm440 0h160v-160H620v160Z\"/>\n",
              "  </svg>\n",
              "    </button>\n",
              "\n",
              "  <style>\n",
              "    .colab-df-container {\n",
              "      display:flex;\n",
              "      gap: 12px;\n",
              "    }\n",
              "\n",
              "    .colab-df-convert {\n",
              "      background-color: #E8F0FE;\n",
              "      border: none;\n",
              "      border-radius: 50%;\n",
              "      cursor: pointer;\n",
              "      display: none;\n",
              "      fill: #1967D2;\n",
              "      height: 32px;\n",
              "      padding: 0 0 0 0;\n",
              "      width: 32px;\n",
              "    }\n",
              "\n",
              "    .colab-df-convert:hover {\n",
              "      background-color: #E2EBFA;\n",
              "      box-shadow: 0px 1px 2px rgba(60, 64, 67, 0.3), 0px 1px 3px 1px rgba(60, 64, 67, 0.15);\n",
              "      fill: #174EA6;\n",
              "    }\n",
              "\n",
              "    .colab-df-buttons div {\n",
              "      margin-bottom: 4px;\n",
              "    }\n",
              "\n",
              "    [theme=dark] .colab-df-convert {\n",
              "      background-color: #3B4455;\n",
              "      fill: #D2E3FC;\n",
              "    }\n",
              "\n",
              "    [theme=dark] .colab-df-convert:hover {\n",
              "      background-color: #434B5C;\n",
              "      box-shadow: 0px 1px 3px 1px rgba(0, 0, 0, 0.15);\n",
              "      filter: drop-shadow(0px 1px 2px rgba(0, 0, 0, 0.3));\n",
              "      fill: #FFFFFF;\n",
              "    }\n",
              "  </style>\n",
              "\n",
              "    <script>\n",
              "      const buttonEl =\n",
              "        document.querySelector('#df-4580fafc-242e-4c00-af0f-3656924a797f button.colab-df-convert');\n",
              "      buttonEl.style.display =\n",
              "        google.colab.kernel.accessAllowed ? 'block' : 'none';\n",
              "\n",
              "      async function convertToInteractive(key) {\n",
              "        const element = document.querySelector('#df-4580fafc-242e-4c00-af0f-3656924a797f');\n",
              "        const dataTable =\n",
              "          await google.colab.kernel.invokeFunction('convertToInteractive',\n",
              "                                                    [key], {});\n",
              "        if (!dataTable) return;\n",
              "\n",
              "        const docLinkHtml = 'Like what you see? Visit the ' +\n",
              "          '<a target=\"_blank\" href=https://colab.research.google.com/notebooks/data_table.ipynb>data table notebook</a>'\n",
              "          + ' to learn more about interactive tables.';\n",
              "        element.innerHTML = '';\n",
              "        dataTable['output_type'] = 'display_data';\n",
              "        await google.colab.output.renderOutput(dataTable, element);\n",
              "        const docLink = document.createElement('div');\n",
              "        docLink.innerHTML = docLinkHtml;\n",
              "        element.appendChild(docLink);\n",
              "      }\n",
              "    </script>\n",
              "  </div>\n",
              "\n",
              "\n",
              "<div id=\"df-d5985bd4-2a75-422b-b00d-5931e826ad8c\">\n",
              "  <button class=\"colab-df-quickchart\" onclick=\"quickchart('df-d5985bd4-2a75-422b-b00d-5931e826ad8c')\"\n",
              "            title=\"Suggest charts\"\n",
              "            style=\"display:none;\">\n",
              "\n",
              "<svg xmlns=\"http://www.w3.org/2000/svg\" height=\"24px\"viewBox=\"0 0 24 24\"\n",
              "     width=\"24px\">\n",
              "    <g>\n",
              "        <path d=\"M19 3H5c-1.1 0-2 .9-2 2v14c0 1.1.9 2 2 2h14c1.1 0 2-.9 2-2V5c0-1.1-.9-2-2-2zM9 17H7v-7h2v7zm4 0h-2V7h2v10zm4 0h-2v-4h2v4z\"/>\n",
              "    </g>\n",
              "</svg>\n",
              "  </button>\n",
              "\n",
              "<style>\n",
              "  .colab-df-quickchart {\n",
              "      --bg-color: #E8F0FE;\n",
              "      --fill-color: #1967D2;\n",
              "      --hover-bg-color: #E2EBFA;\n",
              "      --hover-fill-color: #174EA6;\n",
              "      --disabled-fill-color: #AAA;\n",
              "      --disabled-bg-color: #DDD;\n",
              "  }\n",
              "\n",
              "  [theme=dark] .colab-df-quickchart {\n",
              "      --bg-color: #3B4455;\n",
              "      --fill-color: #D2E3FC;\n",
              "      --hover-bg-color: #434B5C;\n",
              "      --hover-fill-color: #FFFFFF;\n",
              "      --disabled-bg-color: #3B4455;\n",
              "      --disabled-fill-color: #666;\n",
              "  }\n",
              "\n",
              "  .colab-df-quickchart {\n",
              "    background-color: var(--bg-color);\n",
              "    border: none;\n",
              "    border-radius: 50%;\n",
              "    cursor: pointer;\n",
              "    display: none;\n",
              "    fill: var(--fill-color);\n",
              "    height: 32px;\n",
              "    padding: 0;\n",
              "    width: 32px;\n",
              "  }\n",
              "\n",
              "  .colab-df-quickchart:hover {\n",
              "    background-color: var(--hover-bg-color);\n",
              "    box-shadow: 0 1px 2px rgba(60, 64, 67, 0.3), 0 1px 3px 1px rgba(60, 64, 67, 0.15);\n",
              "    fill: var(--button-hover-fill-color);\n",
              "  }\n",
              "\n",
              "  .colab-df-quickchart-complete:disabled,\n",
              "  .colab-df-quickchart-complete:disabled:hover {\n",
              "    background-color: var(--disabled-bg-color);\n",
              "    fill: var(--disabled-fill-color);\n",
              "    box-shadow: none;\n",
              "  }\n",
              "\n",
              "  .colab-df-spinner {\n",
              "    border: 2px solid var(--fill-color);\n",
              "    border-color: transparent;\n",
              "    border-bottom-color: var(--fill-color);\n",
              "    animation:\n",
              "      spin 1s steps(1) infinite;\n",
              "  }\n",
              "\n",
              "  @keyframes spin {\n",
              "    0% {\n",
              "      border-color: transparent;\n",
              "      border-bottom-color: var(--fill-color);\n",
              "      border-left-color: var(--fill-color);\n",
              "    }\n",
              "    20% {\n",
              "      border-color: transparent;\n",
              "      border-left-color: var(--fill-color);\n",
              "      border-top-color: var(--fill-color);\n",
              "    }\n",
              "    30% {\n",
              "      border-color: transparent;\n",
              "      border-left-color: var(--fill-color);\n",
              "      border-top-color: var(--fill-color);\n",
              "      border-right-color: var(--fill-color);\n",
              "    }\n",
              "    40% {\n",
              "      border-color: transparent;\n",
              "      border-right-color: var(--fill-color);\n",
              "      border-top-color: var(--fill-color);\n",
              "    }\n",
              "    60% {\n",
              "      border-color: transparent;\n",
              "      border-right-color: var(--fill-color);\n",
              "    }\n",
              "    80% {\n",
              "      border-color: transparent;\n",
              "      border-right-color: var(--fill-color);\n",
              "      border-bottom-color: var(--fill-color);\n",
              "    }\n",
              "    90% {\n",
              "      border-color: transparent;\n",
              "      border-bottom-color: var(--fill-color);\n",
              "    }\n",
              "  }\n",
              "</style>\n",
              "\n",
              "  <script>\n",
              "    async function quickchart(key) {\n",
              "      const quickchartButtonEl =\n",
              "        document.querySelector('#' + key + ' button');\n",
              "      quickchartButtonEl.disabled = true;  // To prevent multiple clicks.\n",
              "      quickchartButtonEl.classList.add('colab-df-spinner');\n",
              "      try {\n",
              "        const charts = await google.colab.kernel.invokeFunction(\n",
              "            'suggestCharts', [key], {});\n",
              "      } catch (error) {\n",
              "        console.error('Error during call to suggestCharts:', error);\n",
              "      }\n",
              "      quickchartButtonEl.classList.remove('colab-df-spinner');\n",
              "      quickchartButtonEl.classList.add('colab-df-quickchart-complete');\n",
              "    }\n",
              "    (() => {\n",
              "      let quickchartButtonEl =\n",
              "        document.querySelector('#df-d5985bd4-2a75-422b-b00d-5931e826ad8c button');\n",
              "      quickchartButtonEl.style.display =\n",
              "        google.colab.kernel.accessAllowed ? 'block' : 'none';\n",
              "    })();\n",
              "  </script>\n",
              "</div>\n",
              "\n",
              "  <div id=\"id_2225193d-41f3-418a-8231-62ab1ee92559\">\n",
              "    <style>\n",
              "      .colab-df-generate {\n",
              "        background-color: #E8F0FE;\n",
              "        border: none;\n",
              "        border-radius: 50%;\n",
              "        cursor: pointer;\n",
              "        display: none;\n",
              "        fill: #1967D2;\n",
              "        height: 32px;\n",
              "        padding: 0 0 0 0;\n",
              "        width: 32px;\n",
              "      }\n",
              "\n",
              "      .colab-df-generate:hover {\n",
              "        background-color: #E2EBFA;\n",
              "        box-shadow: 0px 1px 2px rgba(60, 64, 67, 0.3), 0px 1px 3px 1px rgba(60, 64, 67, 0.15);\n",
              "        fill: #174EA6;\n",
              "      }\n",
              "\n",
              "      [theme=dark] .colab-df-generate {\n",
              "        background-color: #3B4455;\n",
              "        fill: #D2E3FC;\n",
              "      }\n",
              "\n",
              "      [theme=dark] .colab-df-generate:hover {\n",
              "        background-color: #434B5C;\n",
              "        box-shadow: 0px 1px 3px 1px rgba(0, 0, 0, 0.15);\n",
              "        filter: drop-shadow(0px 1px 2px rgba(0, 0, 0, 0.3));\n",
              "        fill: #FFFFFF;\n",
              "      }\n",
              "    </style>\n",
              "    <button class=\"colab-df-generate\" onclick=\"generateWithVariable('cand_profile')\"\n",
              "            title=\"Generate code using this dataframe.\"\n",
              "            style=\"display:none;\">\n",
              "\n",
              "  <svg xmlns=\"http://www.w3.org/2000/svg\" height=\"24px\"viewBox=\"0 0 24 24\"\n",
              "       width=\"24px\">\n",
              "    <path d=\"M7,19H8.4L18.45,9,17,7.55,7,17.6ZM5,21V16.75L18.45,3.32a2,2,0,0,1,2.83,0l1.4,1.43a1.91,1.91,0,0,1,.58,1.4,1.91,1.91,0,0,1-.58,1.4L9.25,21ZM18.45,9,17,7.55Zm-12,3A5.31,5.31,0,0,0,4.9,8.1,5.31,5.31,0,0,0,1,6.5,5.31,5.31,0,0,0,4.9,4.9,5.31,5.31,0,0,0,6.5,1,5.31,5.31,0,0,0,8.1,4.9,5.31,5.31,0,0,0,12,6.5,5.46,5.46,0,0,0,6.5,12Z\"/>\n",
              "  </svg>\n",
              "    </button>\n",
              "    <script>\n",
              "      (() => {\n",
              "      const buttonEl =\n",
              "        document.querySelector('#id_2225193d-41f3-418a-8231-62ab1ee92559 button.colab-df-generate');\n",
              "      buttonEl.style.display =\n",
              "        google.colab.kernel.accessAllowed ? 'block' : 'none';\n",
              "\n",
              "      buttonEl.onclick = () => {\n",
              "        google.colab.notebook.generateWithVariable('cand_profile');\n",
              "      }\n",
              "      })();\n",
              "    </script>\n",
              "  </div>\n",
              "\n",
              "    </div>\n",
              "  </div>\n"
            ],
            "application/vnd.google.colaboratory.intrinsic+json": {
              "type": "dataframe",
              "variable_name": "cand_profile",
              "summary": "{\n  \"name\": \"cand_profile\",\n  \"rows\": 6,\n  \"fields\": [\n    {\n      \"column\": \"Candidate Name\",\n      \"properties\": {\n        \"dtype\": \"string\",\n        \"num_unique_values\": 6,\n        \"samples\": [\n          \"advaith pr\",\n          \"anand\",\n          \"parvathy\"\n        ],\n        \"semantic_type\": \"\",\n        \"description\": \"\"\n      }\n    },\n    {\n      \"column\": \"DE\",\n      \"properties\": {\n        \"dtype\": \"number\",\n        \"std\": 1,\n        \"min\": 1,\n        \"max\": 4,\n        \"num_unique_values\": 4,\n        \"samples\": [\n          4,\n          3,\n          1\n        ],\n        \"semantic_type\": \"\",\n        \"description\": \"\"\n      }\n    },\n    {\n      \"column\": \"DL\",\n      \"properties\": {\n        \"dtype\": \"number\",\n        \"std\": 1,\n        \"min\": 1,\n        \"max\": 4,\n        \"num_unique_values\": 4,\n        \"samples\": [\n          4,\n          3,\n          1\n        ],\n        \"semantic_type\": \"\",\n        \"description\": \"\"\n      }\n    },\n    {\n      \"column\": \"ML\",\n      \"properties\": {\n        \"dtype\": \"number\",\n        \"std\": 1,\n        \"min\": 1,\n        \"max\": 4,\n        \"num_unique_values\": 4,\n        \"samples\": [\n          4,\n          3,\n          1\n        ],\n        \"semantic_type\": \"\",\n        \"description\": \"\"\n      }\n    },\n    {\n      \"column\": \"NLP\",\n      \"properties\": {\n        \"dtype\": \"number\",\n        \"std\": 1,\n        \"min\": 1,\n        \"max\": 4,\n        \"num_unique_values\": 4,\n        \"samples\": [\n          3,\n          4,\n          2\n        ],\n        \"semantic_type\": \"\",\n        \"description\": \"\"\n      }\n    },\n    {\n      \"column\": \"Python\",\n      \"properties\": {\n        \"dtype\": \"number\",\n        \"std\": 1,\n        \"min\": 1,\n        \"max\": 4,\n        \"num_unique_values\": 4,\n        \"samples\": [\n          4,\n          3,\n          2\n        ],\n        \"semantic_type\": \"\",\n        \"description\": \"\"\n      }\n    },\n    {\n      \"column\": \"Stats\",\n      \"properties\": {\n        \"dtype\": \"number\",\n        \"std\": 1,\n        \"min\": 1,\n        \"max\": 3,\n        \"num_unique_values\": 2,\n        \"samples\": [\n          3,\n          1\n        ],\n        \"semantic_type\": \"\",\n        \"description\": \"\"\n      }\n    }\n  ]\n}"
            }
          },
          "metadata": {},
          "execution_count": 120
        }
      ],
      "source": [
        "#Code to count words under each category and visualize it through MAtplotlib\n",
        "final_db2 = final_db['Keyword'].groupby([final_db['Candidate Name'], final_db['Subject']]).count().unstack()\n",
        "final_db2.reset_index(inplace = True)\n",
        "final_db2.fillna(0,inplace=True)\n",
        "candidate_data = final_db2.iloc[:,1:]\n",
        "candidate_data.index = final_db2['Candidate Name']\n",
        "#the candidate profile in a csv format\n",
        "cand=candidate_data.to_csv('candidate_profile.csv')\n",
        "cand_profile=pd.read_csv('candidate_profile.csv')\n",
        "cand_profile"
      ]
    },
    {
      "cell_type": "markdown",
      "metadata": {
        "id": "1PI8WXSdbgWP"
      },
      "source": [
        "**Visualizing by matplotlib**"
      ]
    },
    {
      "cell_type": "code",
      "execution_count": 121,
      "metadata": {
        "id": "NNw-h_eKbgWP",
        "outputId": "fc747e23-38f3-4f12-e129-eca8affdb928",
        "colab": {
          "base_uri": "https://localhost:8080/",
          "height": 387
        }
      },
      "outputs": [
        {
          "output_type": "display_data",
          "data": {
            "text/plain": [
              "<Figure size 2500x700 with 1 Axes>"
            ],
            "image/png": "[encoded data removed]"
          },
          "metadata": {}
        }
      ],
      "source": [
        "import matplotlib.pyplot as plt\n",
        "%matplotlib inline\n",
        "plt.rcParams.update({'font.size': 20})\n",
        "ax = candidate_data.plot.barh(title=\"Keywords in Resume according to category\", legend=False, figsize=(25,7), stacked=True)\n",
        "skills = []\n",
        "for j in candidate_data.columns:\n",
        "    for i in candidate_data.index:\n",
        "        skill = str(j)+\": \" + str(candidate_data.loc[i][j])\n",
        "        skills.append(skill)\n",
        "patches = ax.patches\n",
        "for skill, rect in zip(skills, patches):\n",
        "    width = rect.get_width()\n",
        "    if width > 0:\n",
        "        x = rect.get_x()\n",
        "        y = rect.get_y()\n",
        "        height = rect.get_height()\n",
        "        ax.text(x + width/2., y + height/2., skill, ha='center', va='center')\n",
        "plt.show()"
      ]
    },
    {
      "cell_type": "markdown",
      "metadata": {
        "id": "1v0q2HWAbgWX"
      },
      "source": [
        "# References"
      ]
    },
    {
      "cell_type": "markdown",
      "metadata": {
        "id": "67a4ufY6bgWX"
      },
      "source": [
        "1. https://machinelearningmastery.com/develop-word-embeddings-python-gensim/\n",
        "2. https://www.shanelynn.ie/word-embeddings-in-python-with-spacy-and-gensim/\n",
        "3. https://app.sketchengine.eu/\n"
      ]
    }
  ],
  "metadata": {
    "kernelspec": {
      "display_name": "Python 3",
      "language": "python",
      "name": "python3"
    },
    "language_info": {
      "codemirror_mode": {
        "name": "ipython",
        "version": 3
      },
      "file_extension": ".py",
      "mimetype": "text/x-python",
      "name": "python",
      "nbconvert_exporter": "python",
      "pygments_lexer": "ipython3",
      "version": "3.7.1"
    },
    "colab": {
      "provenance": []
    }
  },
  "nbformat": 4,
  "nbformat_minor": 0
}